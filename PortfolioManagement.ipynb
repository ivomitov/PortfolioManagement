{
  "nbformat": 4,
  "nbformat_minor": 0,
  "metadata": {
    "colab": {
      "provenance": []
    },
    "kernelspec": {
      "name": "python3",
      "display_name": "Python 3"
    },
    "language_info": {
      "name": "python"
    }
  },
  "cells": [
    {
      "cell_type": "code",
      "execution_count": 2,
      "metadata": {
        "id": "ef5OpLqFkUTy"
      },
      "outputs": [],
      "source": [
        "import pandas as pd\n",
        "import numpy as np"
      ]
    },
    {
      "cell_type": "code",
      "source": [
        "data = pd.DataFrame({'': ['リスク', 'リターン'],\n",
        "    '国内債': [2.0, 1.0],\n",
        "    '外債': [8.3, 4.1],\n",
        "    '国内株': [16.8, 8.7],\n",
        "    '外株': [18.7, 12.4],\n",
        "    '資産X':[20.3, 7.9]})\n",
        "\n",
        "covar = pd.DataFrame({\n",
        "    '': ['国内債', '外債', '国内株', '外株', '金先物'],\n",
        "    '国内債': [0.040,-0.004,-0.095,-0.055,-0.011],\n",
        "    '外債': [-0.004,0.696,0.546,0.758,0.205],\n",
        "    '国内株': [-0.095,0.546,2.821,2.398,0.363],\n",
        "    '外株': [-0.055,0.758,2.398,3.489,0.410],\n",
        "    '金先物': [-0.011, 0.205, 0.363, 0.410, 4.105]\n",
        "})\n",
        "\n",
        "covariance_values = covar.iloc[:, 1:].values / 100\n",
        "covariance_matrix = np.array(covariance_values)"
      ],
      "metadata": {
        "id": "NN1k4fKOwZqI"
      },
      "execution_count": 11,
      "outputs": []
    },
    {
      "cell_type": "code",
      "source": [
        "allocations = []\n",
        "\n",
        "for i in range(101):\n",
        "    for j in range(101 - i):\n",
        "        for k in range(101 - i - j):\n",
        "            for l in range(101 - i - j - k):\n",
        "                m = 100 - i - j - k - l\n",
        "                if m >= 0:\n",
        "                    allocations.append([i, j, k, l, m])"
      ],
      "metadata": {
        "id": "vyfw2oJaRxFx"
      },
      "execution_count": 4,
      "outputs": []
    },
    {
      "cell_type": "code",
      "source": [
        "portfolio = {}\n",
        "for n, alloc in enumerate(allocations):\n",
        "  if n % 100000 == 0:\n",
        "    print(str(n / len(allocations)*100) + \"%\")\n",
        "  dom_bond = alloc[0]\n",
        "  for_bond = alloc[1]\n",
        "  dom_stock = alloc[2]\n",
        "  for_stock = alloc[3]\n",
        "  x = alloc[4]\n",
        "\n",
        "  alloc_values = np.array(alloc) / 100\n",
        "  profit = np.sum(data.iloc[1, 1:].values * alloc_values)\n",
        "\n",
        "  if profit >= 6.5:\n",
        "    risk = np.sqrt(np.matmul(np.array(alloc_values).T, np.matmul(covariance_matrix, np.array(alloc_values)))) * 100\n",
        "    portfolio[f\"{dom_bond}, {for_bond}, {dom_stock}, {for_stock}, {x}\"] = (profit, risk)\n",
        "\n",
        "  else:\n",
        "    continue"
      ],
      "metadata": {
        "id": "OF0U532K2QUB"
      },
      "execution_count": null,
      "outputs": []
    },
    {
      "cell_type": "code",
      "source": [
        "max = 0\n",
        "min = 100000000000000\n",
        "alloc = None\n",
        "allocs = []\n",
        "for key, value in portfolio.items():\n",
        "  profit = value[0]\n",
        "  risk = value[1]\n",
        "  if risk < min:\n",
        "    max = profit\n",
        "    min = risk\n",
        "    alloc = key\n",
        "    allocs.append((key, max, min))\n",
        "\n",
        "print(alloc, max, min)"
      ],
      "metadata": {
        "colab": {
          "base_uri": "https://localhost:8080/"
        },
        "id": "7PJgBj_e0jnl",
        "outputId": "61a5d4b7-471c-452b-d153-0c7f2d5f5c47"
      },
      "execution_count": 13,
      "outputs": [
        {
          "output_type": "stream",
          "name": "stdout",
          "text": [
            "40, 8, 0, 37, 15 6.5009999999999994 8.113621879284244\n"
          ]
        }
      ]
    }
  ]
}